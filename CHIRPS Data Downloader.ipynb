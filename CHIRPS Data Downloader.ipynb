{
 "cells": [
  {
   "cell_type": "code",
   "execution_count": 2,
   "id": "fb6f77e0-1248-4d0b-85f8-1fe021b1b99f",
   "metadata": {},
   "outputs": [
    {
     "name": "stdout",
     "output_type": "stream",
     "text": [
      "New Script Run variable\n",
      "About to process scripted job item now.\n",
      "New Job Submitted to the Server: New JobID: 312440b0-e4d2-46a4-891f-19ff7d01f21b\n",
      "Current Job Progress: 100.  JobID: 312440b0-e4d2-46a4-891f-19ff7d01f21b\n",
      "Result of Job Status Cycle: complete\n",
      "Job, 312440b0-e4d2-46a4-891f-19ff7d01f21b is done, did it succeed? : True\n",
      "=======================================================\n",
      "Downloading file.  This may take a few minutes..\n",
      "Data for JobID: 312440b0-e4d2-46a4-891f-19ff7d01f21b was downloaded to file: imerg_precip_2.zip\n",
      "Exiting...\n"
     ]
    }
   ],
   "source": [
    "import climateserv.api\n",
    "import os\n",
    "import numpy as np\n",
    "\n",
    "geometry = [[103.046, 11.679], [103.046, 13.539], [105.617, 13.539], [105.617, 11.679]]\n",
    "dataset = 'CHIRP'\n",
    "operation_type = 'NetCDF'\n",
    "start_date = \"09/01/2015\"\n",
    "end_date = \"10/15/2015\"\n",
    "ensemble = ''\n",
    "variable = ''\n",
    "outfile = 'imerg_precip_2.zip'\n",
    "\n",
    "climateserv.api.request_data(dataset, operation_type, \n",
    "             start_date, end_date,geometry, \n",
    "             ensemble, variable,outfile)"
   ]
  }
 ],
 "metadata": {
  "kernelspec": {
   "display_name": "Python 3 (ipykernel)",
   "language": "python",
   "name": "python3"
  },
  "language_info": {
   "codemirror_mode": {
    "name": "ipython",
    "version": 3
   },
   "file_extension": ".py",
   "mimetype": "text/x-python",
   "name": "python",
   "nbconvert_exporter": "python",
   "pygments_lexer": "ipython3",
   "version": "3.11.7"
  }
 },
 "nbformat": 4,
 "nbformat_minor": 5
}
