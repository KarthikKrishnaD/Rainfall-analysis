{
 "cells": [
  {
   "cell_type": "code",
   "execution_count": null,
   "id": "fb6f77e0-1248-4d0b-85f8-1fe021b1b99f",
   "metadata": {},
   "outputs": [],
   "source": [
    "import geopandas as gpd\n",
    "import climateserv.api\n",
    "import os\n",
    "import numpy as np\n",
    "\n",
    "df = gpd.read_file(r\"D:\\Git\\Projects\\Runtime files\\LV_Kagera_Akanyaru.shp\")\n",
    "bounds = df.geometry.bounds\n",
    "\n",
    "# specifiy the required buffer size\n",
    "buffer_size = 0.05\n",
    "\n",
    "# increasing the extent\n",
    "bounds['minx'] = bounds['minx'] - buffer_size\n",
    "bounds['miny'] = bounds['miny'] - buffer_size\n",
    "bounds['maxx'] = bounds['maxx'] + buffer_size\n",
    "bounds['maxy'] = bounds['maxy'] + buffer_size\n",
    "\n",
    "\n",
    "# downloading CHIRPS data\n",
    "geometry = [[bounds.iloc[0, 0],bounds.iloc[0, 1]],[bounds.iloc[0, 0],bounds.iloc[0, 3]],[bounds.iloc[0, 2],bounds.iloc[0, 3]],[bounds.iloc[0, 2],bounds.iloc[0, 1]]]\n",
    "dataset = 'CHIRP'\n",
    "operation_type = 'NetCDF'\n",
    "start_date = \"01/01/2000\"\n",
    "end_date = \"01/02/2000\"\n",
    "ensemble = ''\n",
    "variable = ''\n",
    "outfile = 'imerg_precip_1.zip'\n",
    "\n",
    "climateserv.api.request_data(dataset, operation_type, \n",
    "             start_date, end_date,geometry, \n",
    "             ensemble, variable,outfile)"
   ]
  }
 ],
 "metadata": {
  "kernelspec": {
   "display_name": "Python 3 (ipykernel)",
   "language": "python",
   "name": "python3"
  },
  "language_info": {
   "codemirror_mode": {
    "name": "ipython",
    "version": 3
   },
   "file_extension": ".py",
   "mimetype": "text/x-python",
   "name": "python",
   "nbconvert_exporter": "python",
   "pygments_lexer": "ipython3",
   "version": "3.11.7"
  }
 },
 "nbformat": 4,
 "nbformat_minor": 5
}
