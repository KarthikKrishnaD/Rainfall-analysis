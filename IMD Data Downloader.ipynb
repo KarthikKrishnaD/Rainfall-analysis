{
 "cells": [
  {
   "cell_type": "code",
   "execution_count": null,
   "id": "2857725d-5479-4c51-bf9a-63d86e5ebb06",
   "metadata": {},
   "outputs": [],
   "source": [
    "import imdlib as imd\n",
    "import geopandas as gpd\n",
    "from shapely.geometry import mapping\n",
    "import rioxarray\n",
    "\n",
    "# Define the start and end years\n",
    "start_yr = 1990\n",
    "end_yr = 1991\n",
    "variable = 'rain'  # Other options are ('tmin', 'tmax')\n",
    "\n",
    "# Downloading 30 years of rainfall data for India\n",
    "imd.get_data(variable, start_yr, end_yr, fn_format='yearwise')\n",
    "\n",
    "# Loading the downloaded data\n",
    "data = imd.open_data(variable, start_yr, end_yr, 'yearwise')\n",
    "ds = data.get_xarray()\n",
    "\n",
    "# Define lat/lon and set the CRS\n",
    "pr = ds.rio.set_spatial_dims('lon', 'lat')\n",
    "pr = pr.rio.write_crs(\"EPSG:4326\", inplace=True)\n",
    "\n",
    "# Get the shapefile to be extracted\n",
    "shapefile_path = r'D:\\Additional Work\\Aurangabad_3_Cities\\Three Cities\\Three Cities\\Shape File\\Aurangabad_Municipal_43N.shp'\n",
    "sf = gpd.read_file(shapefile_path)\n",
    "\n",
    "# Ensure the shapefile has the same CRS as the raster data\n",
    "if sf.crs.to_string() != \"EPSG:4326\":\n",
    "    sf = sf.to_crs(\"EPSG:4326\")\n",
    "\n",
    "# Extract/mask from the shapefile\n",
    "clipped = pr.rio.clip(sf.geometry.apply(mapping), sf.crs, all_touched=True)\n",
    "\n",
    "# Check for the values (optional)\n",
    "clipped[variable].isel(time=133).plot()  # Plot the first time step of the 'rain' variable\n",
    "\n",
    "# Save to file in NetCDF format\n",
    "save_nc = r'D:\\Git\\Projects\\Git files\\Rainfall-analysis\\IMD_Rain_Clipped.nc'\n",
    "clipped.to_netcdf(save_nc)\n"
   ]
  }
 ],
 "metadata": {
  "kernelspec": {
   "display_name": "Python 3 (ipykernel)",
   "language": "python",
   "name": "python3"
  },
  "language_info": {
   "codemirror_mode": {
    "name": "ipython",
    "version": 3
   },
   "file_extension": ".py",
   "mimetype": "text/x-python",
   "name": "python",
   "nbconvert_exporter": "python",
   "pygments_lexer": "ipython3",
   "version": "3.11.7"
  }
 },
 "nbformat": 4,
 "nbformat_minor": 5
}
