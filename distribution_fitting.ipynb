{
 "cells": [
  {
   "cell_type": "code",
   "execution_count": 6,
   "id": "06939884",
   "metadata": {},
   "outputs": [
    {
     "name": "stdout",
     "output_type": "stream",
     "text": [
      "Best Fitted Distribution: norm\n",
      "Parameters of Best Fitted Distribution: (4.706160931908705, 9.98051984013918)\n",
      "K-S Test Statistic Value: 0.3186294907336016\n"
     ]
    }
   ],
   "source": [
    "import numpy as np\n",
    "import pandas as pd\n",
    "from scipy import stats\n",
    "\n",
    "def fit_best_distribution(data):\n",
    "    distributions = ['gamma', 'pearson3', 'lognorm', 'gumbel_r', 'norm']\n",
    "    best_distribution = None\n",
    "    best_params = None\n",
    "    best_ks_statistic = np.inf\n",
    "    \n",
    "    for distribution in distributions:\n",
    "        # Fit the distribution to the data\n",
    "        params = getattr(stats, distribution).fit(data)\n",
    "        \n",
    "        # Perform K-S test\n",
    "        ks_statistic, p_value = stats.kstest(data, distribution, args=params)\n",
    "        \n",
    "        # Update best distribution if current one has better K-S statistic\n",
    "        if ks_statistic < best_ks_statistic:\n",
    "            best_distribution = distribution\n",
    "            best_params = params\n",
    "            best_ks_statistic = ks_statistic\n",
    "    \n",
    "    return best_distribution, best_params, best_ks_statistic\n",
    "\n",
    "def main():\n",
    "    # Load rainfall data from CSV file\n",
    "    data = pd.read_csv(r'D:\\Personal projects\\Dummy Data\\data.csv', usecols=[0]).values.flatten()\n",
    "    \n",
    "    # Fit best distribution\n",
    "    best_distribution, best_params, best_ks_statistic = fit_best_distribution(data)\n",
    "    \n",
    "    # Print results\n",
    "    print(\"Best Fitted Distribution:\", best_distribution)\n",
    "    print(\"Parameters of Best Fitted Distribution:\", best_params)\n",
    "    print(\"K-S Test Statistic Value:\", best_ks_statistic)\n",
    "\n",
    "if __name__ == \"__main__\":\n",
    "    main()\n"
   ]
  },
  {
   "cell_type": "code",
   "execution_count": null,
   "id": "58e3413e",
   "metadata": {},
   "outputs": [],
   "source": []
  }
 ],
 "metadata": {
  "kernelspec": {
   "display_name": "Python 3 (ipykernel)",
   "language": "python",
   "name": "python3"
  },
  "language_info": {
   "codemirror_mode": {
    "name": "ipython",
    "version": 3
   },
   "file_extension": ".py",
   "mimetype": "text/x-python",
   "name": "python",
   "nbconvert_exporter": "python",
   "pygments_lexer": "ipython3",
   "version": "3.9.1"
  }
 },
 "nbformat": 4,
 "nbformat_minor": 5
}
